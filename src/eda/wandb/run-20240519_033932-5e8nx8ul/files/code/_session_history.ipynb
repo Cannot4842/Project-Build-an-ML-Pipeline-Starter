{
 "cells": [
  {
   "cell_type": "code",
   "execution_count": 1,
   "id": "edf95396",
   "metadata": {},
   "outputs": [],
   "source": [
    "!pip install wandb==0.13.9\n",
    "!pip install pandas-profiling==3.6.2\n",
    "!pip install pandas==1.2.3"
   ]
  },
  {
   "cell_type": "code",
   "execution_count": 2,
   "id": "fb365e3b",
   "metadata": {},
   "outputs": [],
   "source": [
    "import wandb\n",
    "import pandas as pd\n",
    "# Note that we use save_code=True in the call to wandb.init so the notebook is uploaded and versioned by W&B\n",
    "run = wandb.init(project=\"nyc_airbnb\", group=\"eda\", save_code=True)\n",
    "local_path = wandb.use_artifact(\"sample.csv:latest\").file()\n",
    "df = pd.read_csv(local_path)"
   ]
  },
  {
   "cell_type": "code",
   "execution_count": 3,
   "id": "3cef9805",
   "metadata": {},
   "outputs": [],
   "source": [
    "import wandb\n",
    "import pandas as pd\n",
    "# Note that we use save_code=True in the call to wandb.init so the notebook is uploaded and versioned by W&B\n",
    "run = wandb.init(project=\"nyc_airbnb\", group=\"eda\", save_code=True)\n",
    "local_path = wandb.use_artifact(\"sample.csv:latest\").file()\n",
    "df = pd.read_csv(local_path)"
   ]
  },
  {
   "cell_type": "code",
   "execution_count": 4,
   "id": "a441de79",
   "metadata": {},
   "outputs": [],
   "source": [
    "df.info()"
   ]
  },
  {
   "cell_type": "code",
   "execution_count": 5,
   "id": "f0ba7060",
   "metadata": {},
   "outputs": [
    {
     "name": "stdout",
     "output_type": "stream",
     "text": [
      "                 id       host_id      latitude     longitude         price  \\\n",
      "count  2.000000e+04  2.000000e+04  20000.000000  20000.000000  20000.000000   \n",
      "mean   1.892380e+07  6.746034e+07     40.728455    -73.952125    153.269050   \n",
      "std    1.101223e+07  7.857936e+07      0.054755      0.046559    243.325609   \n",
      "min    2.539000e+03  2.571000e+03     40.508730    -74.239140      0.000000   \n",
      "25%    9.393540e+06  7.853718e+06     40.689420    -73.983030     69.000000   \n",
      "50%    1.952117e+07  3.111431e+07     40.722730    -73.955640    105.000000   \n",
      "75%    2.912936e+07  1.068426e+08     40.762990    -73.936380    175.000000   \n",
      "max    3.648561e+07  2.742733e+08     40.913060    -73.717950  10000.000000   \n",
      "\n",
      "       minimum_nights  number_of_reviews  reviews_per_month  \\\n",
      "count    20000.000000       20000.000000       15877.000000   \n",
      "mean         6.992100          23.274100           1.377446   \n",
      "std         21.645449          44.927793           1.683006   \n",
      "min          1.000000           0.000000           0.010000   \n",
      "25%          1.000000           1.000000           0.190000   \n",
      "50%          2.000000           5.000000           0.720000   \n",
      "75%          5.000000          23.000000           2.010000   \n",
      "max       1250.000000         607.000000          27.950000   \n",
      "\n",
      "       calculated_host_listings_count  availability_365  \n",
      "count                    20000.000000      20000.000000  \n",
      "mean                         6.955450        112.901200  \n",
      "std                         32.433831        131.762226  \n",
      "min                          1.000000          0.000000  \n",
      "25%                          1.000000          0.000000  \n",
      "50%                          1.000000         44.000000  \n",
      "75%                          2.000000        229.000000  \n",
      "max                        327.000000        365.000000  "
     ]
    }
   ],
   "source": [
    "df.describe()"
   ]
  },
  {
   "cell_type": "code",
   "execution_count": 6,
   "id": "95824b33",
   "metadata": {},
   "outputs": [
    {
     "name": "stdout",
     "output_type": "stream",
     "text": [
      "         id                                               name    host_id  \\\n",
      "0   9138664                Private Lg Room 15 min to Manhattan   47594947   \n",
      "1  31444015  TIME SQUARE CHARMING ONE BED IN HELL'S KITCHEN...    8523790   \n",
      "2   8741020  Voted #1 Location Quintessential 1BR W Village...   45854238   \n",
      "3  34602077  Spacious 1 bedroom apartment 15min from Manhattan  261055465   \n",
      "4  23203149   Big beautiful bedroom in huge Bushwick apartment     143460   \n",
      "\n",
      "  host_name neighbourhood_group   neighbourhood  latitude  longitude  \\\n",
      "0      Iris              Queens       Sunnyside  40.74271  -73.92493   \n",
      "1    Johlex           Manhattan  Hell's Kitchen  40.76682  -73.98878   \n",
      "2      John           Manhattan    West Village  40.73631  -74.00611   \n",
      "3     Regan              Queens         Astoria  40.76424  -73.92351   \n",
      "4     Megan            Brooklyn        Bushwick  40.69839  -73.92044   \n",
      "\n",
      "         room_type  price  minimum_nights  number_of_reviews last_review  \\\n",
      "0     Private room     74               2                  6  2019-05-26   \n",
      "1  Entire home/apt    170               3                  0         NaN   \n",
      "2  Entire home/apt    245               3                 51  2018-09-19   \n",
      "3  Entire home/apt    125               3                  1  2019-05-24   \n",
      "4     Private room     65               2                  8  2019-06-23   \n",
      "\n",
      "   reviews_per_month  calculated_host_listings_count  availability_365  \n",
      "0               0.13                               1                 5  \n",
      "1                NaN                               1               188  \n",
      "2               1.12                               1                 0  \n",
      "3               0.65                               1                13  \n",
      "4               0.52                               2                 8  "
     ]
    }
   ],
   "source": [
    "df.head()"
   ]
  },
  {
   "cell_type": "code",
   "execution_count": 7,
   "id": "d2db7bee",
   "metadata": {},
   "outputs": [],
   "source": [
    "# Drop outliers\n",
    "min_price = 10\n",
    "max_price = 350\n",
    "idx = df['price'].between(min_price, max_price)\n",
    "df = df[idx].copy()\n",
    "# Convert last_review to datetime\n",
    "df['last_review'] = pd.to_datetime(df['last_review'])"
   ]
  },
  {
   "cell_type": "code",
   "execution_count": 8,
   "id": "ec46a9eb",
   "metadata": {},
   "outputs": [],
   "source": [
    "df.info()"
   ]
  },
  {
   "cell_type": "code",
   "execution_count": 9,
   "id": "a55a490b",
   "metadata": {},
   "outputs": [],
   "source": [
    "run.finish()"
   ]
  },
  {
   "cell_type": "code",
   "execution_count": 10,
   "id": "814e2e28",
   "metadata": {},
   "outputs": [],
   "source": [
    "!pip install wandb==0.17.0\n",
    "!pip install pandas-profiling==3.6.2\n",
    "!pip install pandas==1.2.3"
   ]
  },
  {
   "cell_type": "code",
   "execution_count": 11,
   "id": "f5b623e1",
   "metadata": {},
   "outputs": [],
   "source": [
    "import wandb\n",
    "import pandas as pd\n",
    "# Note that we use save_code=True in the call to wandb.init so the notebook is uploaded and versioned by W&B\n",
    "run = wandb.init(project=\"nyc_airbnb\", group=\"eda\", save_code=True)\n",
    "local_path = wandb.use_artifact(\"sample.csv:latest\").file()\n",
    "df = pd.read_csv(local_path)"
   ]
  },
  {
   "cell_type": "code",
   "execution_count": 12,
   "id": "da214727",
   "metadata": {},
   "outputs": [],
   "source": [
    "!pip install wandb==0.17.0\n",
    "!pip install pandas-profiling==3.6.2\n",
    "!pip install pandas==1.2.3"
   ]
  },
  {
   "cell_type": "code",
   "execution_count": 13,
   "id": "e4482b5f",
   "metadata": {},
   "outputs": [],
   "source": [
    "!pip install wandb==0.13.9\n",
    "!pip install pandas-profiling==3.6.2\n",
    "!pip install pandas==1.2.3"
   ]
  },
  {
   "cell_type": "code",
   "execution_count": 14,
   "id": "68f254c2",
   "metadata": {},
   "outputs": [],
   "source": [
    "import wandb\n",
    "import pandas as pd\n",
    "# Note that we use save_code=True in the call to wandb.init so the notebook is uploaded and versioned by W&B\n",
    "run = wandb.init(project=\"nyc_airbnb\", group=\"eda\", save_code=True)\n",
    "local_path = wandb.use_artifact(\"sample.csv:latest\").file()\n",
    "df = pd.read_csv(local_path)"
   ]
  },
  {
   "cell_type": "code",
   "execution_count": 15,
   "id": "bd7e7fbf",
   "metadata": {},
   "outputs": [],
   "source": [
    "!pip install wandb==0.13.9\n",
    "!pip install pandas-profiling==3.6.2\n",
    "!pip install pandas==1.2.3"
   ]
  },
  {
   "cell_type": "code",
   "execution_count": 16,
   "id": "79abfd12",
   "metadata": {},
   "outputs": [],
   "source": [
    "import wandb\n",
    "import pandas as pd\n",
    "# Note that we use save_code=True in the call to wandb.init so the notebook is uploaded and versioned by W&B\n",
    "run = wandb.init(project=\"nyc_airbnb\", group=\"eda\", save_code=True)\n",
    "local_path = wandb.use_artifact(\"sample.csv:latest\").file()\n",
    "df = pd.read_csv(local_path)"
   ]
  },
  {
   "cell_type": "code",
   "execution_count": 17,
   "id": "4c276a6c",
   "metadata": {},
   "outputs": [],
   "source": [
    "df.info()"
   ]
  },
  {
   "cell_type": "code",
   "execution_count": 18,
   "id": "c93aab3f",
   "metadata": {},
   "outputs": [
    {
     "name": "stdout",
     "output_type": "stream",
     "text": [
      "                 id       host_id      latitude     longitude         price  \\\n",
      "count  2.000000e+04  2.000000e+04  20000.000000  20000.000000  20000.000000   \n",
      "mean   1.892380e+07  6.746034e+07     40.728455    -73.952125    153.269050   \n",
      "std    1.101223e+07  7.857936e+07      0.054755      0.046559    243.325609   \n",
      "min    2.539000e+03  2.571000e+03     40.508730    -74.239140      0.000000   \n",
      "25%    9.393540e+06  7.853718e+06     40.689420    -73.983030     69.000000   \n",
      "50%    1.952117e+07  3.111431e+07     40.722730    -73.955640    105.000000   \n",
      "75%    2.912936e+07  1.068426e+08     40.762990    -73.936380    175.000000   \n",
      "max    3.648561e+07  2.742733e+08     40.913060    -73.717950  10000.000000   \n",
      "\n",
      "       minimum_nights  number_of_reviews  reviews_per_month  \\\n",
      "count    20000.000000       20000.000000       15877.000000   \n",
      "mean         6.992100          23.274100           1.377446   \n",
      "std         21.645449          44.927793           1.683006   \n",
      "min          1.000000           0.000000           0.010000   \n",
      "25%          1.000000           1.000000           0.190000   \n",
      "50%          2.000000           5.000000           0.720000   \n",
      "75%          5.000000          23.000000           2.010000   \n",
      "max       1250.000000         607.000000          27.950000   \n",
      "\n",
      "       calculated_host_listings_count  availability_365  \n",
      "count                    20000.000000      20000.000000  \n",
      "mean                         6.955450        112.901200  \n",
      "std                         32.433831        131.762226  \n",
      "min                          1.000000          0.000000  \n",
      "25%                          1.000000          0.000000  \n",
      "50%                          1.000000         44.000000  \n",
      "75%                          2.000000        229.000000  \n",
      "max                        327.000000        365.000000  "
     ]
    }
   ],
   "source": [
    "df.describe()"
   ]
  },
  {
   "cell_type": "code",
   "execution_count": 19,
   "id": "85aca2e9",
   "metadata": {},
   "outputs": [
    {
     "name": "stdout",
     "output_type": "stream",
     "text": [
      "         id                                               name    host_id  \\\n",
      "0   9138664                Private Lg Room 15 min to Manhattan   47594947   \n",
      "1  31444015  TIME SQUARE CHARMING ONE BED IN HELL'S KITCHEN...    8523790   \n",
      "2   8741020  Voted #1 Location Quintessential 1BR W Village...   45854238   \n",
      "3  34602077  Spacious 1 bedroom apartment 15min from Manhattan  261055465   \n",
      "4  23203149   Big beautiful bedroom in huge Bushwick apartment     143460   \n",
      "\n",
      "  host_name neighbourhood_group   neighbourhood  latitude  longitude  \\\n",
      "0      Iris              Queens       Sunnyside  40.74271  -73.92493   \n",
      "1    Johlex           Manhattan  Hell's Kitchen  40.76682  -73.98878   \n",
      "2      John           Manhattan    West Village  40.73631  -74.00611   \n",
      "3     Regan              Queens         Astoria  40.76424  -73.92351   \n",
      "4     Megan            Brooklyn        Bushwick  40.69839  -73.92044   \n",
      "\n",
      "         room_type  price  minimum_nights  number_of_reviews last_review  \\\n",
      "0     Private room     74               2                  6  2019-05-26   \n",
      "1  Entire home/apt    170               3                  0         NaN   \n",
      "2  Entire home/apt    245               3                 51  2018-09-19   \n",
      "3  Entire home/apt    125               3                  1  2019-05-24   \n",
      "4     Private room     65               2                  8  2019-06-23   \n",
      "\n",
      "   reviews_per_month  calculated_host_listings_count  availability_365  \n",
      "0               0.13                               1                 5  \n",
      "1                NaN                               1               188  \n",
      "2               1.12                               1                 0  \n",
      "3               0.65                               1                13  \n",
      "4               0.52                               2                 8  "
     ]
    }
   ],
   "source": [
    "df.head()"
   ]
  },
  {
   "cell_type": "code",
   "execution_count": 20,
   "id": "02e75197",
   "metadata": {},
   "outputs": [],
   "source": [
    "# Drop outliers\n",
    "min_price = 10\n",
    "max_price = 350\n",
    "idx = df['price'].between(min_price, max_price)\n",
    "df = df[idx].copy()\n",
    "# Convert last_review to datetime\n",
    "df['last_review'] = pd.to_datetime(df['last_review'])"
   ]
  },
  {
   "cell_type": "code",
   "execution_count": 21,
   "id": "686b4e8f",
   "metadata": {},
   "outputs": [],
   "source": [
    "df.info()"
   ]
  },
  {
   "cell_type": "code",
   "execution_count": 22,
   "id": "c1c111eb",
   "metadata": {},
   "outputs": [],
   "source": [
    "run.finish()"
   ]
  },
  {
   "cell_type": "code",
   "execution_count": 23,
   "id": "c53912d6",
   "metadata": {},
   "outputs": [],
   "source": [
    "!pip install wandb\n",
    "!pip install pandas-profiling==3.6.2\n",
    "!pip install pandas==1.2.3"
   ]
  },
  {
   "cell_type": "code",
   "execution_count": 24,
   "id": "3fa35eb8",
   "metadata": {},
   "outputs": [],
   "source": [
    "import wandb\n",
    "import pandas as pd\n",
    "# Note that we use save_code=True in the call to wandb.init so the notebook is uploaded and versioned by W&B\n",
    "run = wandb.init(project=\"nyc_airbnb\", group=\"eda\", save_code=True)\n",
    "local_path = wandb.use_artifact(\"sample.csv:latest\").file()\n",
    "df = pd.read_csv(local_path)"
   ]
  },
  {
   "cell_type": "code",
   "execution_count": 25,
   "id": "5c85fa8c",
   "metadata": {},
   "outputs": [],
   "source": [
    "df.info()"
   ]
  },
  {
   "cell_type": "code",
   "execution_count": 26,
   "id": "fb27442a",
   "metadata": {},
   "outputs": [
    {
     "name": "stdout",
     "output_type": "stream",
     "text": [
      "                 id       host_id      latitude     longitude         price  \\\n",
      "count  2.000000e+04  2.000000e+04  20000.000000  20000.000000  20000.000000   \n",
      "mean   1.892380e+07  6.746034e+07     40.728455    -73.952125    153.269050   \n",
      "std    1.101223e+07  7.857936e+07      0.054755      0.046559    243.325609   \n",
      "min    2.539000e+03  2.571000e+03     40.508730    -74.239140      0.000000   \n",
      "25%    9.393540e+06  7.853718e+06     40.689420    -73.983030     69.000000   \n",
      "50%    1.952117e+07  3.111431e+07     40.722730    -73.955640    105.000000   \n",
      "75%    2.912936e+07  1.068426e+08     40.762990    -73.936380    175.000000   \n",
      "max    3.648561e+07  2.742733e+08     40.913060    -73.717950  10000.000000   \n",
      "\n",
      "       minimum_nights  number_of_reviews  reviews_per_month  \\\n",
      "count    20000.000000       20000.000000       15877.000000   \n",
      "mean         6.992100          23.274100           1.377446   \n",
      "std         21.645449          44.927793           1.683006   \n",
      "min          1.000000           0.000000           0.010000   \n",
      "25%          1.000000           1.000000           0.190000   \n",
      "50%          2.000000           5.000000           0.720000   \n",
      "75%          5.000000          23.000000           2.010000   \n",
      "max       1250.000000         607.000000          27.950000   \n",
      "\n",
      "       calculated_host_listings_count  availability_365  \n",
      "count                    20000.000000      20000.000000  \n",
      "mean                         6.955450        112.901200  \n",
      "std                         32.433831        131.762226  \n",
      "min                          1.000000          0.000000  \n",
      "25%                          1.000000          0.000000  \n",
      "50%                          1.000000         44.000000  \n",
      "75%                          2.000000        229.000000  \n",
      "max                        327.000000        365.000000  "
     ]
    }
   ],
   "source": [
    "df.describe()"
   ]
  },
  {
   "cell_type": "code",
   "execution_count": 27,
   "id": "d0be9310",
   "metadata": {},
   "outputs": [],
   "source": [
    "!pip install wandb==0.13.9\n",
    "!pip install pandas-profiling==3.6.2\n",
    "!pip install pandas==1.2.3"
   ]
  },
  {
   "cell_type": "code",
   "execution_count": 28,
   "id": "6cec11c1",
   "metadata": {},
   "outputs": [],
   "source": [
    "import wandb\n",
    "import pandas as pd\n",
    "# Note that we use save_code=True in the call to wandb.init so the notebook is uploaded and versioned by W&B\n",
    "run = wandb.init(project=\"nyc_airbnb\", group=\"eda\", save_code=True)\n",
    "local_path = wandb.use_artifact(\"sample.csv:latest\").file()\n",
    "df = pd.read_csv(local_path)"
   ]
  },
  {
   "cell_type": "code",
   "execution_count": 29,
   "id": "ad3ded5e",
   "metadata": {},
   "outputs": [],
   "source": [
    "df.info()"
   ]
  },
  {
   "cell_type": "code",
   "execution_count": 30,
   "id": "4eaea127",
   "metadata": {},
   "outputs": [
    {
     "name": "stdout",
     "output_type": "stream",
     "text": [
      "                 id       host_id      latitude     longitude         price  \\\n",
      "count  2.000000e+04  2.000000e+04  20000.000000  20000.000000  20000.000000   \n",
      "mean   1.892380e+07  6.746034e+07     40.728455    -73.952125    153.269050   \n",
      "std    1.101223e+07  7.857936e+07      0.054755      0.046559    243.325609   \n",
      "min    2.539000e+03  2.571000e+03     40.508730    -74.239140      0.000000   \n",
      "25%    9.393540e+06  7.853718e+06     40.689420    -73.983030     69.000000   \n",
      "50%    1.952117e+07  3.111431e+07     40.722730    -73.955640    105.000000   \n",
      "75%    2.912936e+07  1.068426e+08     40.762990    -73.936380    175.000000   \n",
      "max    3.648561e+07  2.742733e+08     40.913060    -73.717950  10000.000000   \n",
      "\n",
      "       minimum_nights  number_of_reviews  reviews_per_month  \\\n",
      "count    20000.000000       20000.000000       15877.000000   \n",
      "mean         6.992100          23.274100           1.377446   \n",
      "std         21.645449          44.927793           1.683006   \n",
      "min          1.000000           0.000000           0.010000   \n",
      "25%          1.000000           1.000000           0.190000   \n",
      "50%          2.000000           5.000000           0.720000   \n",
      "75%          5.000000          23.000000           2.010000   \n",
      "max       1250.000000         607.000000          27.950000   \n",
      "\n",
      "       calculated_host_listings_count  availability_365  \n",
      "count                    20000.000000      20000.000000  \n",
      "mean                         6.955450        112.901200  \n",
      "std                         32.433831        131.762226  \n",
      "min                          1.000000          0.000000  \n",
      "25%                          1.000000          0.000000  \n",
      "50%                          1.000000         44.000000  \n",
      "75%                          2.000000        229.000000  \n",
      "max                        327.000000        365.000000  "
     ]
    }
   ],
   "source": [
    "df.describe()"
   ]
  },
  {
   "cell_type": "code",
   "execution_count": 31,
   "id": "07dca8a9",
   "metadata": {},
   "outputs": [
    {
     "name": "stdout",
     "output_type": "stream",
     "text": [
      "         id                                               name    host_id  \\\n",
      "0   9138664                Private Lg Room 15 min to Manhattan   47594947   \n",
      "1  31444015  TIME SQUARE CHARMING ONE BED IN HELL'S KITCHEN...    8523790   \n",
      "2   8741020  Voted #1 Location Quintessential 1BR W Village...   45854238   \n",
      "3  34602077  Spacious 1 bedroom apartment 15min from Manhattan  261055465   \n",
      "4  23203149   Big beautiful bedroom in huge Bushwick apartment     143460   \n",
      "\n",
      "  host_name neighbourhood_group   neighbourhood  latitude  longitude  \\\n",
      "0      Iris              Queens       Sunnyside  40.74271  -73.92493   \n",
      "1    Johlex           Manhattan  Hell's Kitchen  40.76682  -73.98878   \n",
      "2      John           Manhattan    West Village  40.73631  -74.00611   \n",
      "3     Regan              Queens         Astoria  40.76424  -73.92351   \n",
      "4     Megan            Brooklyn        Bushwick  40.69839  -73.92044   \n",
      "\n",
      "         room_type  price  minimum_nights  number_of_reviews last_review  \\\n",
      "0     Private room     74               2                  6  2019-05-26   \n",
      "1  Entire home/apt    170               3                  0         NaN   \n",
      "2  Entire home/apt    245               3                 51  2018-09-19   \n",
      "3  Entire home/apt    125               3                  1  2019-05-24   \n",
      "4     Private room     65               2                  8  2019-06-23   \n",
      "\n",
      "   reviews_per_month  calculated_host_listings_count  availability_365  \n",
      "0               0.13                               1                 5  \n",
      "1                NaN                               1               188  \n",
      "2               1.12                               1                 0  \n",
      "3               0.65                               1                13  \n",
      "4               0.52                               2                 8  "
     ]
    }
   ],
   "source": [
    "df.head()"
   ]
  },
  {
   "cell_type": "code",
   "execution_count": 32,
   "id": "396338a2",
   "metadata": {},
   "outputs": [],
   "source": [
    "# Drop outliers\n",
    "min_price = 10\n",
    "max_price = 350\n",
    "idx = df['price'].between(min_price, max_price)\n",
    "df = df[idx].copy()\n",
    "# Convert last_review to datetime\n",
    "df['last_review'] = pd.to_datetime(df['last_review'])"
   ]
  },
  {
   "cell_type": "code",
   "execution_count": 33,
   "id": "7d71aa0c",
   "metadata": {},
   "outputs": [],
   "source": [
    "df.info()"
   ]
  },
  {
   "cell_type": "code",
   "execution_count": 34,
   "id": "833c259b",
   "metadata": {},
   "outputs": [],
   "source": [
    "run.finish()"
   ]
  },
  {
   "cell_type": "code",
   "execution_count": 35,
   "id": "2956c8f5",
   "metadata": {},
   "outputs": [],
   "source": [
    "!pip install wandb==0.13.9\n",
    "!pip install pandas-profiling==3.6.2\n",
    "!pip install pandas==1.2.3"
   ]
  },
  {
   "cell_type": "code",
   "execution_count": 36,
   "id": "831c5052",
   "metadata": {},
   "outputs": [],
   "source": [
    "import wandb\n",
    "import pandas as pd\n",
    "# Note that we use save_code=True in the call to wandb.init so the notebook is uploaded and versioned by W&B\n",
    "run = wandb.init(project=\"nyc_airbnb\", group=\"eda\", save_code=True)\n",
    "local_path = wandb.use_artifact(\"sample.csv:latest\").file()\n",
    "df = pd.read_csv(local_path)"
   ]
  },
  {
   "cell_type": "code",
   "execution_count": 37,
   "id": "78319543",
   "metadata": {},
   "outputs": [],
   "source": [
    "df.info()"
   ]
  },
  {
   "cell_type": "code",
   "execution_count": 38,
   "id": "c891b464",
   "metadata": {},
   "outputs": [],
   "source": [
    "!pip install wandb\n",
    "!pip install pandas-profiling==3.6.2\n",
    "!pip install pandas==1.2.3"
   ]
  },
  {
   "cell_type": "code",
   "execution_count": 39,
   "id": "b5e4294c",
   "metadata": {},
   "outputs": [],
   "source": [
    "!pip install wandb\n",
    "!pip install pandas-profiling==3.6.2\n",
    "!pip install pandas==1.2.3"
   ]
  },
  {
   "cell_type": "code",
   "execution_count": 40,
   "id": "3de6118f",
   "metadata": {},
   "outputs": [],
   "source": [
    "import wandb\n",
    "import pandas as pd\n",
    "# Note that we use save_code=True in the call to wandb.init so the notebook is uploaded and versioned by W&B\n",
    "run = wandb.init(project=\"nyc_airbnb\", group=\"eda\", save_code=True)\n",
    "local_path = wandb.use_artifact(\"sample.csv:latest\").file()\n",
    "df = pd.read_csv(local_path)"
   ]
  },
  {
   "cell_type": "code",
   "execution_count": 41,
   "id": "656187cb",
   "metadata": {},
   "outputs": [],
   "source": [
    "df.info()"
   ]
  },
  {
   "cell_type": "code",
   "execution_count": 42,
   "id": "2a3dee42",
   "metadata": {},
   "outputs": [
    {
     "name": "stdout",
     "output_type": "stream",
     "text": [
      "                 id       host_id      latitude     longitude         price  \\\n",
      "count  2.000000e+04  2.000000e+04  20000.000000  20000.000000  20000.000000   \n",
      "mean   1.892380e+07  6.746034e+07     40.728455    -73.952125    153.269050   \n",
      "std    1.101223e+07  7.857936e+07      0.054755      0.046559    243.325609   \n",
      "min    2.539000e+03  2.571000e+03     40.508730    -74.239140      0.000000   \n",
      "25%    9.393540e+06  7.853718e+06     40.689420    -73.983030     69.000000   \n",
      "50%    1.952117e+07  3.111431e+07     40.722730    -73.955640    105.000000   \n",
      "75%    2.912936e+07  1.068426e+08     40.762990    -73.936380    175.000000   \n",
      "max    3.648561e+07  2.742733e+08     40.913060    -73.717950  10000.000000   \n",
      "\n",
      "       minimum_nights  number_of_reviews  reviews_per_month  \\\n",
      "count    20000.000000       20000.000000       15877.000000   \n",
      "mean         6.992100          23.274100           1.377446   \n",
      "std         21.645449          44.927793           1.683006   \n",
      "min          1.000000           0.000000           0.010000   \n",
      "25%          1.000000           1.000000           0.190000   \n",
      "50%          2.000000           5.000000           0.720000   \n",
      "75%          5.000000          23.000000           2.010000   \n",
      "max       1250.000000         607.000000          27.950000   \n",
      "\n",
      "       calculated_host_listings_count  availability_365  \n",
      "count                    20000.000000      20000.000000  \n",
      "mean                         6.955450        112.901200  \n",
      "std                         32.433831        131.762226  \n",
      "min                          1.000000          0.000000  \n",
      "25%                          1.000000          0.000000  \n",
      "50%                          1.000000         44.000000  \n",
      "75%                          2.000000        229.000000  \n",
      "max                        327.000000        365.000000  "
     ]
    }
   ],
   "source": [
    "df.describe()"
   ]
  },
  {
   "cell_type": "code",
   "execution_count": 43,
   "id": "bd57e773",
   "metadata": {},
   "outputs": [
    {
     "name": "stdout",
     "output_type": "stream",
     "text": [
      "         id                                               name    host_id  \\\n",
      "0   9138664                Private Lg Room 15 min to Manhattan   47594947   \n",
      "1  31444015  TIME SQUARE CHARMING ONE BED IN HELL'S KITCHEN...    8523790   \n",
      "2   8741020  Voted #1 Location Quintessential 1BR W Village...   45854238   \n",
      "3  34602077  Spacious 1 bedroom apartment 15min from Manhattan  261055465   \n",
      "4  23203149   Big beautiful bedroom in huge Bushwick apartment     143460   \n",
      "\n",
      "  host_name neighbourhood_group   neighbourhood  latitude  longitude  \\\n",
      "0      Iris              Queens       Sunnyside  40.74271  -73.92493   \n",
      "1    Johlex           Manhattan  Hell's Kitchen  40.76682  -73.98878   \n",
      "2      John           Manhattan    West Village  40.73631  -74.00611   \n",
      "3     Regan              Queens         Astoria  40.76424  -73.92351   \n",
      "4     Megan            Brooklyn        Bushwick  40.69839  -73.92044   \n",
      "\n",
      "         room_type  price  minimum_nights  number_of_reviews last_review  \\\n",
      "0     Private room     74               2                  6  2019-05-26   \n",
      "1  Entire home/apt    170               3                  0         NaN   \n",
      "2  Entire home/apt    245               3                 51  2018-09-19   \n",
      "3  Entire home/apt    125               3                  1  2019-05-24   \n",
      "4     Private room     65               2                  8  2019-06-23   \n",
      "\n",
      "   reviews_per_month  calculated_host_listings_count  availability_365  \n",
      "0               0.13                               1                 5  \n",
      "1                NaN                               1               188  \n",
      "2               1.12                               1                 0  \n",
      "3               0.65                               1                13  \n",
      "4               0.52                               2                 8  "
     ]
    }
   ],
   "source": [
    "df.head()"
   ]
  },
  {
   "cell_type": "code",
   "execution_count": 44,
   "id": "80baf393",
   "metadata": {},
   "outputs": [],
   "source": [
    "# Drop outliers\n",
    "min_price = 10\n",
    "max_price = 350\n",
    "idx = df['price'].between(min_price, max_price)\n",
    "df = df[idx].copy()\n",
    "# Convert last_review to datetime\n",
    "df['last_review'] = pd.to_datetime(df['last_review'])"
   ]
  },
  {
   "cell_type": "code",
   "execution_count": 45,
   "id": "daacaa55",
   "metadata": {},
   "outputs": [],
   "source": [
    "df.info()"
   ]
  },
  {
   "cell_type": "code",
   "execution_count": 46,
   "id": "38f6a853",
   "metadata": {},
   "outputs": [],
   "source": [
    "run.finish()"
   ]
  },
  {
   "cell_type": "code",
   "execution_count": 47,
   "id": "10977684",
   "metadata": {},
   "outputs": [],
   "source": [
    "!pip install wandb\n",
    "!pip install pandas-profiling==3.6.2\n",
    "!pip install pandas==1.2.3"
   ]
  },
  {
   "cell_type": "code",
   "execution_count": 48,
   "id": "05e598f5",
   "metadata": {},
   "outputs": [
    {
     "data": {
      "text/html": [
       "wandb version 0.17.0 is available!  To upgrade, please run:\n",
       " $ pip install wandb --upgrade"
      ],
      "text/plain": [
       "<IPython.core.display.HTML object>"
      ]
     },
     "metadata": {},
     "output_type": "display_data"
    },
    {
     "data": {
      "text/html": [
       "Tracking run with wandb version 0.13.9"
      ],
      "text/plain": [
       "<IPython.core.display.HTML object>"
      ]
     },
     "metadata": {},
     "output_type": "display_data"
    },
    {
     "data": {
      "text/html": [
       "Run data is saved locally in <code>/Users/westwingtech/Documents/Project-Build-an-ML-Pipeline-Starter/src/eda/wandb/run-20240519_033932-5e8nx8ul</code>"
      ],
      "text/plain": [
       "<IPython.core.display.HTML object>"
      ]
     },
     "metadata": {},
     "output_type": "display_data"
    },
    {
     "data": {
      "text/html": [
       "Syncing run <strong><a href=\"https://wandb.ai/udacitycourse/nyc_airbnb/runs/5e8nx8ul\" target=\"_blank\">eager-planet-11</a></strong> to <a href=\"https://wandb.ai/udacitycourse/nyc_airbnb\" target=\"_blank\">Weights & Biases</a> (<a href=\"https://wandb.me/run\" target=\"_blank\">docs</a>)<br/>"
      ],
      "text/plain": [
       "<IPython.core.display.HTML object>"
      ]
     },
     "metadata": {},
     "output_type": "display_data"
    },
    {
     "data": {
      "text/html": [
       " View project at <a href=\"https://wandb.ai/udacitycourse/nyc_airbnb\" target=\"_blank\">https://wandb.ai/udacitycourse/nyc_airbnb</a>"
      ],
      "text/plain": [
       "<IPython.core.display.HTML object>"
      ]
     },
     "metadata": {},
     "output_type": "display_data"
    },
    {
     "data": {
      "text/html": [
       " View run at <a href=\"https://wandb.ai/udacitycourse/nyc_airbnb/runs/5e8nx8ul\" target=\"_blank\">https://wandb.ai/udacitycourse/nyc_airbnb/runs/5e8nx8ul</a>"
      ],
      "text/plain": [
       "<IPython.core.display.HTML object>"
      ]
     },
     "metadata": {},
     "output_type": "display_data"
    }
   ],
   "source": [
    "import wandb\n",
    "import pandas as pd\n",
    "# Note that we use save_code=True in the call to wandb.init so the notebook is uploaded and versioned by W&B\n",
    "run = wandb.init(project=\"nyc_airbnb\", group=\"eda\", save_code=True)\n",
    "local_path = wandb.use_artifact(\"sample.csv:latest\").file()\n",
    "df = pd.read_csv(local_path)"
   ]
  },
  {
   "cell_type": "code",
   "execution_count": 49,
   "id": "ed46ee84",
   "metadata": {},
   "outputs": [],
   "source": [
    "df.info()"
   ]
  },
  {
   "cell_type": "code",
   "execution_count": 50,
   "id": "784e525c",
   "metadata": {},
   "outputs": [],
   "source": [
    "import wandb\n",
    "import pandas as pd\n",
    "# Note that we use save_code=True in the call to wandb.init so the notebook is uploaded and versioned by W&B\n",
    "run = wandb.init(project=\"nyc_airbnb\", group=\"eda\", save_code=True, jupyter=False)\n",
    "local_path = wandb.use_artifact(\"sample.csv:latest\").file()\n",
    "df = pd.read_csv(local_path)"
   ]
  },
  {
   "cell_type": "code",
   "execution_count": 51,
   "id": "9fee30ca",
   "metadata": {},
   "outputs": [],
   "source": [
    "import wandb\n",
    "import pandas as pd\n",
    "# Note that we use save_code=True in the call to wandb.init so the notebook is uploaded and versioned by W&B\n",
    "run = wandb.init(project=\"nyc_airbnb\", group=\"eda\", save_code=True,)\n",
    "local_path = wandb.use_artifact(\"sample.csv:latest\").file()\n",
    "df = pd.read_csv(local_path)"
   ]
  }
 ],
 "metadata": {
  "kernelspec": {
   "display_name": "Python 3",
   "language": "python",
   "name": "python3"
  },
  "language_info": {
   "codemirror_mode": {
    "name": "ipython",
    "version": 3
   },
   "file_extension": ".py",
   "mimetype": "text/x-python",
   "name": "python",
   "nbconvert_exporter": "python",
   "pygments_lexer": "ipython3",
   "version": "3.9.15"
  }
 },
 "nbformat": 4,
 "nbformat_minor": 5
}
